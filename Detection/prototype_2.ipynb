{
 "cells": [
  {
   "cell_type": "markdown",
   "metadata": {},
   "source": [
    "# Prototype_2\n",
    "### 추출해와서 출력하기\n",
    "\n",
    "#### Requirements"
   ]
  },
  {
   "cell_type": "code",
   "execution_count": 1,
   "metadata": {},
   "outputs": [
    {
     "name": "stderr",
     "output_type": "stream",
     "text": [
      "objc[1094]: Class CaptureDelegate is implemented in both /Users/nuyhc/miniforge3/envs/Deep/lib/python3.8/site-packages/mediapipe/.dylibs/libopencv_videoio.3.4.16.dylib (0x11cdfc860) and /Users/nuyhc/miniforge3/envs/Deep/lib/python3.8/site-packages/cv2/cv2.abi3.so (0x281ea2538). One of the two will be used. Which one is undefined.\n",
      "objc[1094]: Class CVWindow is implemented in both /Users/nuyhc/miniforge3/envs/Deep/lib/python3.8/site-packages/mediapipe/.dylibs/libopencv_highgui.3.4.16.dylib (0x10fea4a68) and /Users/nuyhc/miniforge3/envs/Deep/lib/python3.8/site-packages/cv2/cv2.abi3.so (0x281ea2588). One of the two will be used. Which one is undefined.\n",
      "objc[1094]: Class CVView is implemented in both /Users/nuyhc/miniforge3/envs/Deep/lib/python3.8/site-packages/mediapipe/.dylibs/libopencv_highgui.3.4.16.dylib (0x10fea4a90) and /Users/nuyhc/miniforge3/envs/Deep/lib/python3.8/site-packages/cv2/cv2.abi3.so (0x281ea25b0). One of the two will be used. Which one is undefined.\n",
      "objc[1094]: Class CVSlider is implemented in both /Users/nuyhc/miniforge3/envs/Deep/lib/python3.8/site-packages/mediapipe/.dylibs/libopencv_highgui.3.4.16.dylib (0x10fea4ab8) and /Users/nuyhc/miniforge3/envs/Deep/lib/python3.8/site-packages/cv2/cv2.abi3.so (0x281ea25d8). One of the two will be used. Which one is undefined.\n"
     ]
    }
   ],
   "source": [
    "import os\n",
    "import glob\n",
    "\n",
    "import numpy as np\n",
    "import pandas as pd\n",
    "import json\n",
    "\n",
    "import mediapipe as mp\n",
    "import cv2\n",
    "import pytube"
   ]
  },
  {
   "cell_type": "markdown",
   "metadata": {},
   "source": [
    "#### Prototype"
   ]
  },
  {
   "cell_type": "code",
   "execution_count": 84,
   "metadata": {},
   "outputs": [],
   "source": [
    "class JustDDance:\n",
    "    def __init__(self):\n",
    "        self.__download_path = \"./video/\"\n",
    "        self.__keyporint_extraction_path = \"./keypoint_extraction/\"\n",
    "        self.__dance_fps = None\n",
    "        self.__dance_shape = None\n",
    "        self.__user_fps = None\n",
    "        self.__user_shape = None\n",
    "    \n",
    "    def download_video(self):\n",
    "        url = input(\"연습할 춤의 유튜브 링크: \")\n",
    "        yt = pytube.YouTube(url)\n",
    "        stream = yt.streams.filter(res=\"720p\").first()\n",
    "        stream.download(self.__download_path)\n",
    "    \n",
    "    def scaling_coor(self, keypoint_path): # \"./keypoint_extraction/[주간아 직캠] IVE YUJIN - LOVE DIVE (아이브 유진 - 러브 다이브) l EP556_keypoints.json\"\n",
    "        with open(keypoint_path, \"r\") as file:\n",
    "            data = json.load(file)\n",
    "        pose_cor = pd.DataFrame(data[\"pose\"])\n",
    "        return np.array(pose_cor)\n",
    "    \n",
    "    def extract_keypoint(self, video_path):\n",
    "        mp_drawing = mp.solutions.drawing_utils\n",
    "        mp_drawing_style = mp.solutions.drawing_styles\n",
    "        mp_holistic = mp.solutions.holistic\n",
    "        \n",
    "        keypoint_dict_pose = []\n",
    "        keypoint_dict_left_hand = []\n",
    "        keypoint_dict_right_hand = []\n",
    "        keypoint_dict = {}\n",
    "        \n",
    "        try: cap = cv2.VideoCapture(video_path)\n",
    "        except: return -1\n",
    "        \n",
    "        with mp_holistic.Holistic(min_detection_confidence=0.5, min_tracking_confidence=0.5) as holistic:\n",
    "            while cap.isOpened():\n",
    "                success, image = cap.read()\n",
    "                if not success: break\n",
    "                self.__dance_shape = image.shape\n",
    "                self.__dance_fps = cap.get(cv2.CAP_PROP_FPS)\n",
    "                image = cv2.cvtColor(cv2.flip(image, 1), cv2.COLOR_BGR2RGB)\n",
    "                image.flags.writeable = False\n",
    "                results = holistic.process(image)\n",
    "                try:\n",
    "                    keypoint_dict_pose.append({str(idx): [lmk.x, lmk.y, lmk.z] for idx, lmk in enumerate(results.pose_landmarks.landmark)})\n",
    "                    keypoint_dict_left_hand.append({str(idx): [lmk.x, lmk.y, lmk.z] for idx, lmk in enumerate(results.left_hand_landmarks.landmark)})\n",
    "                    keypoint_dict_right_hand.append({str(idx): [lmk.x, lmk.y, lmk.z] for idx, lmk in enumerate(results.right_hand_landmarks.landmark)})\n",
    "                except:\n",
    "                    keypoint_dict_pose.append({str(idx): [0, 0, 0] for idx in range(0, 33)})\n",
    "                    keypoint_dict_left_hand.append({str(idx): [0, 0, 0] for idx in range(0, 21)})\n",
    "                    keypoint_dict_right_hand.append({str(idx): [0, 0, 0] for idx in range(0, 21)})\n",
    "                    \n",
    "                keypoint_dict = {\"pose\": keypoint_dict_pose, \"left_hand\": keypoint_dict_left_hand, \"right_hand\": keypoint_dict_right_hand}\n",
    "        cap.release()\n",
    "        cv2.destroyAllWindows()\n",
    "        cv2.waitKey(1)\n",
    "        with open(self.__keyporint_extraction_path+video_path.split(\"/\")[2].split(\".\")[0]+\"_keypoints.json\", \"w\") as fp:\n",
    "            json.dump(keypoint_dict, fp)\n",
    "            \n",
    "    def show_dance_tutorial(self):\n",
    "        mp_drawing = mp.solutions.drawing_utils\n",
    "        mp_drawing_style = mp.solutions.drawing_styles\n",
    "        mp_holistic = mp.solutions.holistic\n",
    "        \n",
    "        try: cap = cv2.VideoCapture(0)\n",
    "        except: cap = cv2.VideoCapture(1)\n",
    "        load_dance = cv2.VideoCapture(\"./video/[주간아 직캠] LE SSERAFIM KIM CHAEWON - FEARLESS (르세라핌 김채원 - 피어리스) l EP561.mp4\")\n",
    "        cap.set(cv2.CAP_PROP_FRAME_WIDTH, 1280)\n",
    "        cap.set(cv2.CAP_PROP_FRAME_HEIGHT, 720)\n",
    "        \n",
    "        dance_cors = self.scaling_coor(\"./keypoint_extraction/[주간아 직캠] LE SSERAFIM KIM CHAEWON - FEARLESS (르세라핌 김채원 - 피어리스) l EP561_keypoints.json\")\n",
    "        dance_cors_fps = 0\n",
    "        extract_points = [11, 12, 13, 14, 15, 16, 23, 24, 25, 26, 27, 28]\n",
    "        cv2.startWindowThread()\n",
    "        with mp_holistic.Holistic(min_detection_confidence=0.5, min_tracking_confidence=0.5) as holistic:\n",
    "            while cap.isOpened():\n",
    "                success, image = cap.read()\n",
    "                ret, dance = load_dance.read()\n",
    "                if not success: break\n",
    "                self.__user_shape = image.shape\n",
    "                self.__user_fps = cap.get(cv2.CAP_PROP_FPS)\n",
    "                self.__dance_shape = dance.shape\n",
    "                self.__dance_fps = load_dance.get(cv2.CAP_PROP_FPS)\n",
    "\n",
    "                image = cv2.cvtColor(cv2.flip(image, 1), cv2.COLOR_BGR2RGB)\n",
    "                image.flags.writeable = False\n",
    "                results = holistic.process(image)\n",
    "                image = cv2.cvtColor(image, cv2.COLOR_RGB2BGR)\n",
    "                try:\n",
    "                    mp_drawing.draw_landmarks(image, results.pose_landmarks, mp_holistic.POSE_CONNECTIONS,\n",
    "                                        landmark_drawing_spec=mp_drawing.DrawingSpec(color=(0, 255, 255), thickness=5, circle_radius=1),\n",
    "                                        connection_drawing_spec=mp_drawing.DrawingSpec(color=(0, 255, 255), thickness=3, circle_radius=1))\n",
    "                    skeleton = {}\n",
    "                    # for pose_point in range(33):\n",
    "                    for pose_point in extract_points:\n",
    "                        scale_x_cor_pose, scale_y_cor_pose = int(dance_cors[dance_cors_fps][pose_point][0]*self.__user_shape[1]), int(dance_cors[dance_cors_fps][pose_point][1]*self.__user_shape[0])\n",
    "                        cv2.circle(image, (scale_x_cor_pose, scale_y_cor_pose), 10, (204, 0, 102), cv2.FILLED)\n",
    "                        skeleton[pose_point] = (scale_x_cor_pose, scale_y_cor_pose)\n",
    "\n",
    "                        tn_x, tn_y, tn_z = dance_cors[dance_cors_fps][pose_point][0:3]\n",
    "                        print(results.pose_landmarks.landmark)\n",
    "                    dance_cors_fps += 1\n",
    "                    cv2.line(image, skeleton[16], skeleton[14], (204, 0, 102), thickness=5, lineType=cv2.LINE_AA, shift=None) # 오손목 -> 오팔꿈치\n",
    "                    cv2.line(image, skeleton[14], skeleton[12], (204, 0, 102), thickness=5, lineType=cv2.LINE_AA, shift=None) # 오팔꿈치 -> 오어깨\n",
    "                    cv2.line(image, skeleton[12], skeleton[11], (204, 0, 102), thickness=5, lineType=cv2.LINE_AA, shift=None) # 오어깨 -> 왼어깨\n",
    "                    cv2.line(image, skeleton[11], skeleton[13], (204, 0, 102), thickness=5, lineType=cv2.LINE_AA, shift=None) # 왼어깨 -> 왼팔꿈치\n",
    "                    cv2.line(image, skeleton[13], skeleton[15], (204, 0, 102), thickness=5, lineType=cv2.LINE_AA, shift=None) # 왼팔꿈치 -> 왼손목\n",
    "                    cv2.line(image, skeleton[12], skeleton[24], (204, 0, 102), thickness=5, lineType=cv2.LINE_AA, shift=None) # 오어깨 -> 오엉덩이\n",
    "                    cv2.line(image, skeleton[24], skeleton[26], (204, 0, 102), thickness=5, lineType=cv2.LINE_AA, shift=None) # 오엉덩이 -> 오무릎\n",
    "                    cv2.line(image, skeleton[26], skeleton[28], (204, 0, 102), thickness=5, lineType=cv2.LINE_AA, shift=None) # 오무릎 -> 오발목\n",
    "                    cv2.line(image, skeleton[11], skeleton[23], (204, 0, 102), thickness=5, lineType=cv2.LINE_AA, shift=None) # 왼어깨 -> 왼엉덩이\n",
    "                    cv2.line(image, skeleton[23], skeleton[25], (204, 0, 102), thickness=5, lineType=cv2.LINE_AA, shift=None) # 왼엉덩이 -> 왼무릎\n",
    "                    cv2.line(image, skeleton[25], skeleton[27], (204, 0, 102), thickness=5, lineType=cv2.LINE_AA, shift=None) # 왼무릎 -> 왼발목\n",
    "                    cv2.line(image, skeleton[24], skeleton[23], (204, 0, 102), thickness=5, lineType=cv2.LINE_AA, shift=None) # 왼엉덩이 -> 오엉덩이\n",
    "\n",
    "                    # Acc\n",
    "\n",
    "                except:\n",
    "                    break\n",
    "                # TODO: 싱크 문제 해결\n",
    "                # try:\n",
    "                #     h_output = np.hstack((cv2.flip(dance, 1), image))\n",
    "                # except:\n",
    "                #     h_output = np.hstack((np.zeros((512, 512, 3), np.uint8), image))\n",
    "                cv2.imshow(\"Just DDance!\", image)\n",
    "                if cv2.waitKey(1)&0xFF==ord(\"q\"): break\n",
    "        load_dance.release()        \n",
    "        cap.release()\n",
    "        cv2.destroyAllWindows()\n",
    "        cv2.waitKey(1)\n",
    "                \n"
   ]
  },
  {
   "cell_type": "code",
   "execution_count": 85,
   "metadata": {},
   "outputs": [],
   "source": [
    "jd = JustDDance()"
   ]
  },
  {
   "cell_type": "code",
   "execution_count": null,
   "metadata": {},
   "outputs": [],
   "source": [
    "jd.extract_keypoint(\"./video/[주간아 직캠] LE SSERAFIM KIM CHAEWON - FEARLESS (르세라핌 김채원 - 피어리스) l EP561.mp4\")"
   ]
  },
  {
   "cell_type": "code",
   "execution_count": 86,
   "metadata": {},
   "outputs": [],
   "source": [
    "jd.show_dance_tutorial()"
   ]
  },
  {
   "cell_type": "code",
   "execution_count": 73,
   "metadata": {},
   "outputs": [],
   "source": [
    "temp = []\n",
    "for f, s in zip([1, 2, 3], [1, 1, 1]):\n",
    "    temp.append(s-f)"
   ]
  },
  {
   "cell_type": "code",
   "execution_count": 74,
   "metadata": {},
   "outputs": [
    {
     "data": {
      "text/plain": [
       "2.23606797749979"
      ]
     },
     "execution_count": 74,
     "metadata": {},
     "output_type": "execute_result"
    }
   ],
   "source": [
    "np.linalg.norm(temp)"
   ]
  }
 ],
 "metadata": {
  "kernelspec": {
   "display_name": "Python 3.8.13 ('Deep')",
   "language": "python",
   "name": "python3"
  },
  "language_info": {
   "codemirror_mode": {
    "name": "ipython",
    "version": 3
   },
   "file_extension": ".py",
   "mimetype": "text/x-python",
   "name": "python",
   "nbconvert_exporter": "python",
   "pygments_lexer": "ipython3",
   "version": "3.8.13"
  },
  "orig_nbformat": 4,
  "vscode": {
   "interpreter": {
    "hash": "2687cd7e348f8b276a3d3877a91949627292e389c8a2a645f881205e3ac80541"
   }
  }
 },
 "nbformat": 4,
 "nbformat_minor": 2
}
