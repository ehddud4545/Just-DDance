{
 "cells": [
  {
   "cell_type": "markdown",
   "metadata": {},
   "source": [
    "# Prototype_2\n",
    "### 추출해와서 출력하기\n",
    "\n",
    "#### Requirements"
   ]
  },
  {
   "cell_type": "code",
   "execution_count": 1,
   "metadata": {},
   "outputs": [],
   "source": [
    "import os\n",
    "import glob\n",
    "\n",
    "import numpy as np\n",
    "import pandas as pd\n",
    "import json\n",
    "\n",
    "import mediapipe as mp\n",
    "import cv2\n",
    "import pytube"
   ]
  },
  {
   "cell_type": "markdown",
   "metadata": {},
   "source": [
    "#### Prototype"
   ]
  },
  {
   "cell_type": "code",
   "execution_count": 7,
   "metadata": {},
   "outputs": [],
   "source": [
    "class JustDDance:\n",
    "    def __init__(self):\n",
    "        self.__download_path = \"./video/\"\n",
    "        self.__keyporint_extraction_path = \"./keypoint_extraction/\"\n",
    "        self.__dance_shape = []\n",
    "    \n",
    "    def download_video(self):\n",
    "        url = input(\"연습할 춤의 유튜브 링크: \")\n",
    "        yt = pytube.YouTube(url)\n",
    "        stream = yt.streams.filter(res=\"720p\").first()\n",
    "        stream.download(self.__download_path)\n",
    "    \n",
    "    def extract_keypoint(self, video_path):\n",
    "        mp_drawing = mp.solutions.drawing_utils\n",
    "        mp_drawing_style = mp.solutions.drawing_styles\n",
    "        mp_holistic = mp.solutions.holistic\n",
    "        \n",
    "        keypoint_dict_pose = []\n",
    "        keypoint_dict_left_hand = []\n",
    "        keypoint_dict_right_hand = []\n",
    "        keypoint_dict = {}\n",
    "        \n",
    "        try: cap = cv2.VideoCapture(video_path)\n",
    "        except: return -1\n",
    "        \n",
    "        with mp_holistic.Holistic(min_detection_confidence=0.5, min_tracking_confidence=0.5) as holistic:\n",
    "            while cap.isOpened():\n",
    "                success, image = cap.read()\n",
    "                if not success: break\n",
    "                self.__dance_shape = image.shape\n",
    "                image = cv2.cvtColor(cv2.flip(image, 1), cv2.COLOR_BGR2RGB)\n",
    "                image.flags.writeable = False\n",
    "                results = holistic.process(image)\n",
    "                \n",
    "                try:\n",
    "                    annotated_pose_landmarks = {str(idx): [lmk.x, lmk.y, lmk.z] for idx, lmk in enumerate(results.pose_landmarks.landmark)}\n",
    "                    keypoint_dict_pose.append(annotated_pose_landmarks)\n",
    "                    annotated_left_hand_landmarks = {str(idx): [lmk.x, lmk.y, lmk.z] for idx, lmk in enumerate(results.left_hand_landmarks.landmark)}\n",
    "                    keypoint_dict_left_hand.append(annotated_left_hand_landmarks)\n",
    "                    annotated_right_hand_landmarks = {str(idx): [lmk.x, lmk.y, lmk.z] for idx, lmk in enumerate(results.right_hand_landmarks.landmark)}\n",
    "                    keypoint_dict_right_hand.append(annotated_right_hand_landmarks)\n",
    "                except:\n",
    "                    pass\n",
    "                keypoint_dict = {\"pose\": keypoint_dict_pose, \"left_hand\": keypoint_dict_left_hand, \"right_hand\": keypoint_dict_right_hand}\n",
    "                \n",
    "                # image.flags.writeable = True\n",
    "                # image = cv2.cvtColor(image, cv2.COLOR_RGB2BGR)\n",
    "                # mp_drawing.draw_landmarks(image, results.right_hand_landmarks, mp_holistic.HAND_CONNECTIONS,\n",
    "                #                         landmark_drawing_spec=mp_drawing.DrawingSpec(color=(255, 102, 178), thickness=1, circle_radius=1),\n",
    "                #                         connection_drawing_spec=mp_drawing.DrawingSpec(color=(255, 102, 178), thickness=2, circle_radius=1))\n",
    "                # mp_drawing.draw_landmarks(image, results.left_hand_landmarks, mp_holistic.HAND_CONNECTIONS,\n",
    "                #                         landmark_drawing_spec=mp_drawing.DrawingSpec(color=(255, 102, 178), thickness=1, circle_radius=1),\n",
    "                #                         connection_drawing_spec=mp_drawing.DrawingSpec(color=(255, 102, 178), thickness=2, circle_radius=1))\n",
    "                # mp_drawing.draw_landmarks(image, results.pose_landmarks, mp_holistic.POSE_CONNECTIONS,\n",
    "                #                         landmark_drawing_spec=mp_drawing.DrawingSpec(color=(255, 102, 102), thickness=1, circle_radius=1),\n",
    "                #                         connection_drawing_spec=mp_drawing.DrawingSpec(color=(255, 102, 102), thickness=3, circle_radius=1))\n",
    "                \n",
    "                # cv2.imshow(\"KeypointExtraction\", image)\n",
    "                \n",
    "                # if cv2.waitKey(int(cap.get(cv2.CAP_PROP_FPS)))&0xFF==ord(\"q\"): break\n",
    "        cap.release()\n",
    "        cv2.destroyAllWindows()\n",
    "        cv2.waitKey(1)\n",
    "        with open(self.__keyporint_extraction_path+video_path.split(\"/\")[2].split(\".\")[0]+\"_keypoints.json\", \"w\") as fp:\n",
    "            json.dump(keypoint_dict, fp)\n",
    "            \n",
    "        \n"
   ]
  },
  {
   "cell_type": "code",
   "execution_count": 8,
   "metadata": {},
   "outputs": [],
   "source": [
    "jd = JustDDance()\n",
    "\n",
    "jd.extract_keypoint(\"./video/[주간아 직캠] IVE YUJIN - LOVE DIVE (아이브 유진 - 러브 다이브) l EP556.mp4\")"
   ]
  }
 ],
 "metadata": {
  "kernelspec": {
   "display_name": "Python 3.8.13 ('tfpy')",
   "language": "python",
   "name": "python3"
  },
  "language_info": {
   "codemirror_mode": {
    "name": "ipython",
    "version": 3
   },
   "file_extension": ".py",
   "mimetype": "text/x-python",
   "name": "python",
   "nbconvert_exporter": "python",
   "pygments_lexer": "ipython3",
   "version": "3.8.13"
  },
  "orig_nbformat": 4,
  "vscode": {
   "interpreter": {
    "hash": "25cc1cd7561f80357b7fa03267e13bd0c2330c203ad8a304d4fde6c3e39963dc"
   }
  }
 },
 "nbformat": 4,
 "nbformat_minor": 2
}
