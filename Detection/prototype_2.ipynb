{
 "cells": [
  {
   "cell_type": "markdown",
   "metadata": {},
   "source": [
    "# Prototype_2\n",
    "### 추출해와서 출력하기\n",
    "\n",
    "#### Requirements"
   ]
  },
  {
   "cell_type": "code",
   "execution_count": 1,
   "metadata": {},
   "outputs": [],
   "source": [
    "import os\n",
    "import glob\n",
    "\n",
    "import numpy as np\n",
    "import pandas as pd\n",
    "import json\n",
    "\n",
    "import mediapipe as mp\n",
    "import cv2\n",
    "import pytube"
   ]
  },
  {
   "cell_type": "markdown",
   "metadata": {},
   "source": [
    "#### Prototype"
   ]
  },
  {
   "cell_type": "code",
   "execution_count": 6,
   "metadata": {},
   "outputs": [],
   "source": [
    "class JustDDance:\n",
    "    def __init__(self):\n",
    "        self.__download_path = \"./video/\"\n",
    "        self.__keyporint_extraction_path = \"./keypoint_extraction/\"\n",
    "        self.__dance_fps = None\n",
    "        self.__dance_shape = None\n",
    "        self.__user_fps = None\n",
    "        self.__user_shape = None\n",
    "    \n",
    "    def download_video(self):\n",
    "        url = input(\"연습할 춤의 유튜브 링크: \")\n",
    "        yt = pytube.YouTube(url)\n",
    "        stream = yt.streams.filter(res=\"720p\").first()\n",
    "        stream.download(self.__download_path)\n",
    "    \n",
    "    def scaling_coor(self, keypoint_path): # \"./keypoint_extraction/[주간아 직캠] IVE YUJIN - LOVE DIVE (아이브 유진 - 러브 다이브) l EP556_keypoints.json\"\n",
    "        with open(keypoint_path, \"r\") as file:\n",
    "            data = json.load(file)\n",
    "        pose_cor = pd.DataFrame(data[\"pose\"])\n",
    "        return np.array(pose_cor)\n",
    "    \n",
    "    def extract_keypoint(self, video_path):\n",
    "        mp_drawing = mp.solutions.drawing_utils\n",
    "        mp_drawing_style = mp.solutions.drawing_styles\n",
    "        mp_holistic = mp.solutions.holistic\n",
    "        \n",
    "        keypoint_dict_pose = []\n",
    "        keypoint_dict_left_hand = []\n",
    "        keypoint_dict_right_hand = []\n",
    "        keypoint_dict = {}\n",
    "        \n",
    "        try: cap = cv2.VideoCapture(video_path)\n",
    "        except: return -1\n",
    "        \n",
    "        with mp_holistic.Holistic(min_detection_confidence=0.5, min_tracking_confidence=0.5) as holistic:\n",
    "            while cap.isOpened():\n",
    "                success, image = cap.read()\n",
    "                if not success: break\n",
    "                self.__dance_shape = image.shape\n",
    "                self.__dance_fps = cap.get(cv2.CAP_PROP_FPS)\n",
    "                image = cv2.cvtColor(cv2.flip(image, 1), cv2.COLOR_BGR2RGB)\n",
    "                image.flags.writeable = False\n",
    "                results = holistic.process(image)\n",
    "                try:\n",
    "                    keypoint_dict_pose.append({str(idx): [lmk.x, lmk.y, lmk.z] for idx, lmk in enumerate(results.pose_landmarks.landmark)})\n",
    "                    keypoint_dict_left_hand.append({str(idx): [lmk.x, lmk.y, lmk.z] for idx, lmk in enumerate(results.left_hand_landmarks.landmark)})\n",
    "                    keypoint_dict_right_hand.append({str(idx): [lmk.x, lmk.y, lmk.z] for idx, lmk in enumerate(results.right_hand_landmarks.landmark)})\n",
    "                except:\n",
    "                    keypoint_dict_pose.append({str(idx): [0, 0, 0] for idx in range(0, 33)})\n",
    "                    keypoint_dict_left_hand.append({str(idx): [0, 0, 0] for idx in range(0, 21)})\n",
    "                    keypoint_dict_right_hand.append({str(idx): [0, 0, 0] for idx in range(0, 21)})\n",
    "                    \n",
    "                keypoint_dict = {\"pose\": keypoint_dict_pose, \"left_hand\": keypoint_dict_left_hand, \"right_hand\": keypoint_dict_right_hand}\n",
    "        cap.release()\n",
    "        cv2.destroyAllWindows()\n",
    "        cv2.waitKey(1)\n",
    "        with open(self.__keyporint_extraction_path+video_path.split(\"/\")[2].split(\".\")[0]+\"_keypoints.json\", \"w\") as fp:\n",
    "            json.dump(keypoint_dict, fp)\n",
    "            \n",
    "    def show_dance_tutorial(self):\n",
    "        mp_drawing = mp.solutions.drawing_utils\n",
    "        mp_drawing_style = mp.solutions.drawing_styles\n",
    "        mp_holistic = mp.solutions.holistic\n",
    "        \n",
    "        try: cap = cv2.VideoCapture(0)\n",
    "        except: cap = cv2.VideoCapture(1)\n",
    "        load_dance = cv2.VideoCapture(\"./video/[주간아 직캠] IVE YUJIN - LOVE DIVE (아이브 유진 - 러브 다이브) l EP556.mp4\")\n",
    "        cap.set(cv2.CAP_PROP_FRAME_WIDTH, 1280)\n",
    "        cap.set(cv2.CAP_PROP_FRAME_HEIGHT, 720)\n",
    "        \n",
    "        dance_cors = self.scaling_coor(\"./keypoint_extraction/[주간아 직캠] IVE YUJIN - LOVE DIVE (아이브 유진 - 러브 다이브) l EP556_keypoints.json\")\n",
    "        idx = 0\n",
    "        with mp_holistic.Holistic(min_detection_confidence=0.5, min_tracking_confidence=0.5) as holistic:\n",
    "            while cap.isOpened():\n",
    "                success, image = cap.read()\n",
    "                ret, dance = load_dance.read()\n",
    "                if not success: break\n",
    "                self.__user_shape = image.shape\n",
    "                self.__user_fps = cap.get(cv2.CAP_PROP_FPS)\n",
    "                image = cv2.cvtColor(cv2.flip(image, 1), cv2.COLOR_BGR2RGB)\n",
    "                \n",
    "                image = cv2.cvtColor(image, cv2.COLOR_RGB2BGR)\n",
    "                try:\n",
    "                    for pose_point in range(33):\n",
    "                        # scale_x_cor_pose, scale_y_cor_pose = int(dance_cors[idx][pose_point][0]*self.__dance_shape[1]), int(dance_cors[idx][pose_point][1]*self.__dance_shape[0])\n",
    "                        scale_x_cor_pose, scale_y_cor_pose = int(dance_cors[idx][pose_point][0]*480), int(dance_cors[idx][pose_point][1]*720)\n",
    "                        cv2.circle(image, (scale_x_cor_pose, scale_y_cor_pose), 5, (255, 102, 102), cv2.FILLED)\n",
    "                    idx += 1\n",
    "                except:\n",
    "                    break\n",
    "                # TODO: 싱크 문제 해결\n",
    "                # try:\n",
    "                #     h_output = np.hstack((cv2.flip(dance, 1), image))\n",
    "                # except:\n",
    "                #     h_output = np.hstack((np.zeros((512, 512, 3), np.uint8), image))\n",
    "                cv2.imshow(\"Just DDance!\", image)\n",
    "                if cv2.waitKey(1)&0xFF==ord(\"q\"): break\n",
    "        load_dance.release()        \n",
    "        cap.release()\n",
    "        cv2.destroyAllWindows()\n",
    "        cv2.waitKey(1)\n",
    "                \n"
   ]
  },
  {
   "cell_type": "code",
   "execution_count": 7,
   "metadata": {},
   "outputs": [],
   "source": [
    "jd = JustDDance()\n",
    "\n",
    "# jd.extract_keypoint(\"./video/[주간아 직캠] IVE YUJIN - LOVE DIVE (아이브 유진 - 러브 다이브) l EP556.mp4\")"
   ]
  },
  {
   "cell_type": "code",
   "execution_count": 8,
   "metadata": {},
   "outputs": [],
   "source": [
    "jd.show_dance_tutorial()"
   ]
  }
 ],
 "metadata": {
  "kernelspec": {
   "display_name": "Python 3.8.13 ('tfpy')",
   "language": "python",
   "name": "python3"
  },
  "language_info": {
   "codemirror_mode": {
    "name": "ipython",
    "version": 3
   },
   "file_extension": ".py",
   "mimetype": "text/x-python",
   "name": "python",
   "nbconvert_exporter": "python",
   "pygments_lexer": "ipython3",
   "version": "3.8.13"
  },
  "orig_nbformat": 4,
  "vscode": {
   "interpreter": {
    "hash": "25cc1cd7561f80357b7fa03267e13bd0c2330c203ad8a304d4fde6c3e39963dc"
   }
  }
 },
 "nbformat": 4,
 "nbformat_minor": 2
}
